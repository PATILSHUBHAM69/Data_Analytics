{
 "cells": [
  {
   "cell_type": "markdown",
   "metadata": {
    "id": "MXSH1RJFwcTO"
   },
   "source": [
    "**For the iris dataset perform the ANOVA testing to prove the assumption about “means of sepal_width for all the  categories of & quot; species & quot; is different”.**"
   ]
  },
  {
   "cell_type": "code",
   "execution_count": null,
   "metadata": {
    "id": "UFVfkrHxrXX6"
   },
   "outputs": [],
   "source": [
    "import pandas as pd\n",
    "import numpy as np\n",
    "%matplotlib inline\n",
    "import matplotlib.pyplot as plt\n",
    "import sklearn\n",
    "import seaborn as sns\n",
    "import statsmodels.api as sm\n",
    "from scipy import stats"
   ]
  },
  {
   "cell_type": "code",
   "execution_count": null,
   "metadata": {
    "id": "_e0S1nRXt9SA"
   },
   "outputs": [],
   "source": [
    "from sklearn.datasets import load_iris\n",
    "irisData = load_iris()"
   ]
  },
  {
   "cell_type": "code",
   "execution_count": null,
   "metadata": {
    "colab": {
     "base_uri": "https://localhost:8080/"
    },
    "id": "uv8FVUzPuB4G",
    "outputId": "2417e3b8-1a2b-47e1-fe22-bfeda6209216"
   },
   "outputs": [
    {
     "data": {
      "text/plain": [
       "['sepal length (cm)',\n",
       " 'sepal width (cm)',\n",
       " 'petal length (cm)',\n",
       " 'petal width (cm)']"
      ]
     },
     "execution_count": 151,
     "metadata": {},
     "output_type": "execute_result"
    }
   ],
   "source": [
    "irisData.feature_names"
   ]
  },
  {
   "cell_type": "code",
   "execution_count": null,
   "metadata": {
    "id": "s-RIMrc-uGiK"
   },
   "outputs": [],
   "source": [
    "df=pd.DataFrame(irisData.data, columns=irisData.feature_names)"
   ]
  },
  {
   "cell_type": "code",
   "execution_count": null,
   "metadata": {
    "colab": {
     "base_uri": "https://localhost:8080/"
    },
    "id": "Q_qD1OLcuK3q",
    "outputId": "89e7ef06-7c77-45d2-feaa-b6c9eee0b408"
   },
   "outputs": [
    {
     "data": {
      "text/plain": [
       "array(['setosa', 'versicolor', 'virginica'], dtype='<U10')"
      ]
     },
     "execution_count": 153,
     "metadata": {},
     "output_type": "execute_result"
    }
   ],
   "source": [
    "irisData.target_names"
   ]
  },
  {
   "cell_type": "code",
   "execution_count": null,
   "metadata": {
    "id": "kx4IjxS1uOJE"
   },
   "outputs": [],
   "source": [
    "pd.set_option('display.max.columns',None)"
   ]
  },
  {
   "cell_type": "code",
   "execution_count": null,
   "metadata": {
    "id": "6s374wthuRlM"
   },
   "outputs": [],
   "source": [
    "df1=pd.DataFrame(irisData.target_names)"
   ]
  },
  {
   "cell_type": "code",
   "execution_count": null,
   "metadata": {
    "id": "6SMObQPiuU6m"
   },
   "outputs": [],
   "source": [
    "df['target']=irisData.target"
   ]
  },
  {
   "cell_type": "code",
   "execution_count": null,
   "metadata": {
    "colab": {
     "base_uri": "https://localhost:8080/",
     "height": 206
    },
    "id": "4-oIBFxQuZJV",
    "outputId": "62776f64-74e0-407e-8897-a2b26d5a6c61"
   },
   "outputs": [
    {
     "data": {
      "text/html": [
       "<div>\n",
       "<style scoped>\n",
       "    .dataframe tbody tr th:only-of-type {\n",
       "        vertical-align: middle;\n",
       "    }\n",
       "\n",
       "    .dataframe tbody tr th {\n",
       "        vertical-align: top;\n",
       "    }\n",
       "\n",
       "    .dataframe thead th {\n",
       "        text-align: right;\n",
       "    }\n",
       "</style>\n",
       "<table border=\"1\" class=\"dataframe\">\n",
       "  <thead>\n",
       "    <tr style=\"text-align: right;\">\n",
       "      <th></th>\n",
       "      <th>sepal length (cm)</th>\n",
       "      <th>sepal width (cm)</th>\n",
       "      <th>petal length (cm)</th>\n",
       "      <th>petal width (cm)</th>\n",
       "      <th>target</th>\n",
       "    </tr>\n",
       "  </thead>\n",
       "  <tbody>\n",
       "    <tr>\n",
       "      <th>0</th>\n",
       "      <td>5.1</td>\n",
       "      <td>3.5</td>\n",
       "      <td>1.4</td>\n",
       "      <td>0.2</td>\n",
       "      <td>0</td>\n",
       "    </tr>\n",
       "    <tr>\n",
       "      <th>1</th>\n",
       "      <td>4.9</td>\n",
       "      <td>3.0</td>\n",
       "      <td>1.4</td>\n",
       "      <td>0.2</td>\n",
       "      <td>0</td>\n",
       "    </tr>\n",
       "    <tr>\n",
       "      <th>2</th>\n",
       "      <td>4.7</td>\n",
       "      <td>3.2</td>\n",
       "      <td>1.3</td>\n",
       "      <td>0.2</td>\n",
       "      <td>0</td>\n",
       "    </tr>\n",
       "    <tr>\n",
       "      <th>3</th>\n",
       "      <td>4.6</td>\n",
       "      <td>3.1</td>\n",
       "      <td>1.5</td>\n",
       "      <td>0.2</td>\n",
       "      <td>0</td>\n",
       "    </tr>\n",
       "    <tr>\n",
       "      <th>4</th>\n",
       "      <td>5.0</td>\n",
       "      <td>3.6</td>\n",
       "      <td>1.4</td>\n",
       "      <td>0.2</td>\n",
       "      <td>0</td>\n",
       "    </tr>\n",
       "  </tbody>\n",
       "</table>\n",
       "</div>"
      ],
      "text/plain": [
       "   sepal length (cm)  sepal width (cm)  petal length (cm)  petal width (cm)  \\\n",
       "0                5.1               3.5                1.4               0.2   \n",
       "1                4.9               3.0                1.4               0.2   \n",
       "2                4.7               3.2                1.3               0.2   \n",
       "3                4.6               3.1                1.5               0.2   \n",
       "4                5.0               3.6                1.4               0.2   \n",
       "\n",
       "   target  \n",
       "0       0  \n",
       "1       0  \n",
       "2       0  \n",
       "3       0  \n",
       "4       0  "
      ]
     },
     "execution_count": 157,
     "metadata": {},
     "output_type": "execute_result"
    }
   ],
   "source": [
    "df.head()"
   ]
  },
  {
   "cell_type": "code",
   "execution_count": null,
   "metadata": {
    "colab": {
     "base_uri": "https://localhost:8080/"
    },
    "id": "maSWKDvuucWQ",
    "outputId": "241206ef-e315-414a-cbfe-6e9d6b71289e"
   },
   "outputs": [
    {
     "data": {
      "text/plain": [
       "array([0, 1, 2])"
      ]
     },
     "execution_count": 158,
     "metadata": {},
     "output_type": "execute_result"
    }
   ],
   "source": [
    "df['target'].unique()"
   ]
  },
  {
   "cell_type": "code",
   "execution_count": null,
   "metadata": {
    "id": "Rb8GQArBuf9P"
   },
   "outputs": [],
   "source": [
    "df.target=df.target.replace(0,'setosa')\n",
    "df.target=df.target.replace(1,'versicolor')\n",
    "df.target=df.target.replace(2,'virginica')"
   ]
  },
  {
   "cell_type": "code",
   "execution_count": null,
   "metadata": {
    "colab": {
     "base_uri": "https://localhost:8080/"
    },
    "id": "1YuMOe6Ou4Ab",
    "outputId": "3641e694-3986-472e-cd29-b2b6bbf31b7d"
   },
   "outputs": [
    {
     "data": {
      "text/plain": [
       "array(['setosa', 'versicolor', 'virginica'], dtype=object)"
      ]
     },
     "execution_count": 160,
     "metadata": {},
     "output_type": "execute_result"
    }
   ],
   "source": [
    "df['target'].unique()"
   ]
  },
  {
   "cell_type": "code",
   "execution_count": null,
   "metadata": {
    "id": "6dSerAya5Xpc"
   },
   "outputs": [],
   "source": [
    "import scipy.stats as stats\n",
    "import statsmodels.api as sm\n",
    "from statsmodels.formula.api import ols"
   ]
  },
  {
   "cell_type": "code",
   "execution_count": null,
   "metadata": {
    "colab": {
     "base_uri": "https://localhost:8080/"
    },
    "id": "tj5IKB5b5Euo",
    "outputId": "bb166473-116d-466c-ad64-a9019c39c915"
   },
   "outputs": [
    {
     "data": {
      "text/plain": [
       "target\n",
       "setosa        50\n",
       "versicolor    50\n",
       "virginica     50\n",
       "Name: sepal width (cm), dtype: int64"
      ]
     },
     "execution_count": 162,
     "metadata": {},
     "output_type": "execute_result"
    }
   ],
   "source": [
    "df[\"sepal width (cm)\"].groupby(df['target']).size()"
   ]
  },
  {
   "cell_type": "code",
   "execution_count": null,
   "metadata": {
    "id": "FdWOrfuL_RHa"
   },
   "outputs": [],
   "source": [
    "s1=df[df['target']=='setosa']['sepal length (cm)']"
   ]
  },
  {
   "cell_type": "code",
   "execution_count": null,
   "metadata": {
    "id": "PqZwPXlFAfLX"
   },
   "outputs": [],
   "source": [
    "ve1=df[df['target']=='versicolor']['sepal length (cm)']"
   ]
  },
  {
   "cell_type": "code",
   "execution_count": null,
   "metadata": {
    "id": "eWH03G5uCW_c"
   },
   "outputs": [],
   "source": [
    "vi1=df[df['target']=='virginica']['sepal length (cm)']"
   ]
  },
  {
   "cell_type": "code",
   "execution_count": null,
   "metadata": {
    "colab": {
     "base_uri": "https://localhost:8080/"
    },
    "id": "ehPlzZnSDOZq",
    "outputId": "f2fa66f4-bc2d-40eb-9cbf-ecbe06ceece7"
   },
   "outputs": [
    {
     "data": {
      "text/plain": [
       "0    5.1\n",
       "1    4.9\n",
       "2    4.7\n",
       "3    4.6\n",
       "4    5.0\n",
       "Name: sepal length (cm), dtype: float64"
      ]
     },
     "execution_count": 166,
     "metadata": {},
     "output_type": "execute_result"
    }
   ],
   "source": [
    "s1.head()"
   ]
  },
  {
   "cell_type": "code",
   "execution_count": null,
   "metadata": {
    "id": "itBRxPLBDtqo"
   },
   "outputs": [],
   "source": [
    "#'sepal length (cm)'\n",
    "a=list(s1)\n",
    "b=list(ve1)\n",
    "c=list(vi1)"
   ]
  },
  {
   "cell_type": "code",
   "execution_count": null,
   "metadata": {
    "colab": {
     "base_uri": "https://localhost:8080/"
    },
    "id": "e0rviF7zw-eP",
    "outputId": "942d4cd8-164d-49d6-aaf9-fc9169229123"
   },
   "outputs": [
    {
     "data": {
      "text/plain": [
       "['setosa', 'versicolor', 'virginica']"
      ]
     },
     "execution_count": 168,
     "metadata": {},
     "output_type": "execute_result"
    }
   ],
   "source": [
    "list(df['target'].unique())"
   ]
  },
  {
   "cell_type": "code",
   "execution_count": null,
   "metadata": {
    "colab": {
     "base_uri": "https://localhost:8080/",
     "height": 206
    },
    "id": "_ZKT6wE4wVqM",
    "outputId": "033b4ed0-3b1d-452c-a7ff-75100eadd955"
   },
   "outputs": [
    {
     "data": {
      "text/html": [
       "<div>\n",
       "<style scoped>\n",
       "    .dataframe tbody tr th:only-of-type {\n",
       "        vertical-align: middle;\n",
       "    }\n",
       "\n",
       "    .dataframe tbody tr th {\n",
       "        vertical-align: top;\n",
       "    }\n",
       "\n",
       "    .dataframe thead th {\n",
       "        text-align: right;\n",
       "    }\n",
       "</style>\n",
       "<table border=\"1\" class=\"dataframe\">\n",
       "  <thead>\n",
       "    <tr style=\"text-align: right;\">\n",
       "      <th></th>\n",
       "      <th>setosa</th>\n",
       "      <th>versicolor</th>\n",
       "      <th>virginica</th>\n",
       "    </tr>\n",
       "  </thead>\n",
       "  <tbody>\n",
       "    <tr>\n",
       "      <th>0</th>\n",
       "      <td>5.1</td>\n",
       "      <td>7.0</td>\n",
       "      <td>6.3</td>\n",
       "    </tr>\n",
       "    <tr>\n",
       "      <th>1</th>\n",
       "      <td>4.9</td>\n",
       "      <td>6.4</td>\n",
       "      <td>5.8</td>\n",
       "    </tr>\n",
       "    <tr>\n",
       "      <th>2</th>\n",
       "      <td>4.7</td>\n",
       "      <td>6.9</td>\n",
       "      <td>7.1</td>\n",
       "    </tr>\n",
       "    <tr>\n",
       "      <th>3</th>\n",
       "      <td>4.6</td>\n",
       "      <td>5.5</td>\n",
       "      <td>6.3</td>\n",
       "    </tr>\n",
       "    <tr>\n",
       "      <th>4</th>\n",
       "      <td>5.0</td>\n",
       "      <td>6.5</td>\n",
       "      <td>6.5</td>\n",
       "    </tr>\n",
       "  </tbody>\n",
       "</table>\n",
       "</div>"
      ],
      "text/plain": [
       "   setosa  versicolor  virginica\n",
       "0     5.1         7.0        6.3\n",
       "1     4.9         6.4        5.8\n",
       "2     4.7         6.9        7.1\n",
       "3     4.6         5.5        6.3\n",
       "4     5.0         6.5        6.5"
      ]
     },
     "execution_count": 169,
     "metadata": {},
     "output_type": "execute_result"
    }
   ],
   "source": [
    "df4=pd.DataFrame(list(zip(a,b,c)),columns=list(df['target'].unique()))\n",
    "df4.head()"
   ]
  },
  {
   "cell_type": "code",
   "execution_count": null,
   "metadata": {
    "colab": {
     "base_uri": "https://localhost:8080/",
     "height": 279
    },
    "id": "POle1F3Xyr_7",
    "outputId": "684e380f-1855-4ac8-ed2c-a5c3f922e410"
   },
   "outputs": [
    {
     "data": {
      "image/png": "[encoded data removed]",
      "text/plain": [
       "<Figure size 432x288 with 1 Axes>"
      ]
     },
     "metadata": {
      "needs_background": "light"
     },
     "output_type": "display_data"
    }
   ],
   "source": [
    "# reshape the d dataframe suitable for statsmodels package \n",
    "df_melt = pd.melt(df4.reset_index(), id_vars=['index'], value_vars=list(df['target'].unique()))\n",
    "# replace column names\n",
    "df_melt.columns = ['index', 'treatments', 'value']\n",
    "\n",
    "# generate a boxplot to see the data distribution by treatments. \n",
    "# Using boxplot, we can easily detect the differences between different treatments\n",
    "import matplotlib.pyplot as plt\n",
    "import seaborn as sns\n",
    "ax = sns.boxplot(x='treatments', y='value', data=df_melt, color='#99c2a2')\n",
    "ax = sns.swarmplot(x=\"treatments\", y=\"value\", data=df_melt, color='#7d0013')\n",
    "plt.show()"
   ]
  },
  {
   "cell_type": "code",
   "execution_count": null,
   "metadata": {
    "colab": {
     "base_uri": "https://localhost:8080/",
     "height": 406
    },
    "id": "FviYrT_Mu7Fi",
    "outputId": "87c5cca6-d87c-45f4-eed0-f659b4b11ad4"
   },
   "outputs": [
    {
     "name": "stderr",
     "output_type": "stream",
     "text": [
      "C:\\Users\\ankur\\anaconda3\\lib\\site-packages\\seaborn\\distributions.py:2619: FutureWarning: `distplot` is a deprecated function and will be removed in a future version. Please adapt your code to use either `displot` (a figure-level function with similar flexibility) or `histplot` (an axes-level function for histograms).\n",
      "  warnings.warn(msg, FutureWarning)\n",
      "C:\\Users\\ankur\\anaconda3\\lib\\site-packages\\seaborn\\distributions.py:2619: FutureWarning: `distplot` is a deprecated function and will be removed in a future version. Please adapt your code to use either `displot` (a figure-level function with similar flexibility) or `histplot` (an axes-level function for histograms).\n",
      "  warnings.warn(msg, FutureWarning)\n",
      "C:\\Users\\ankur\\anaconda3\\lib\\site-packages\\seaborn\\distributions.py:2619: FutureWarning: `distplot` is a deprecated function and will be removed in a future version. Please adapt your code to use either `displot` (a figure-level function with similar flexibility) or `histplot` (an axes-level function for histograms).\n",
      "  warnings.warn(msg, FutureWarning)\n"
     ]
    },
    {
     "data": {
      "image/png": "[encoded data removed]",
      "text/plain": [
       "<Figure size 432x288 with 1 Axes>"
      ]
     },
     "metadata": {
      "needs_background": "light"
     },
     "output_type": "display_data"
    }
   ],
   "source": [
    "sns.distplot(df4[\"setosa\"], label = \"setosa\")\n",
    "sns.distplot(df4[\"versicolor\"], label = \"versicolor\")\n",
    "sns.distplot(df4[\"virginica\"], label = \"virginica\")\n",
    "plt.legend();"
   ]
  },
  {
   "cell_type": "code",
   "execution_count": null,
   "metadata": {
    "colab": {
     "base_uri": "https://localhost:8080/"
    },
    "id": "Xxvdd7Je39NL",
    "outputId": "690928d9-5478-4535-ee8b-5b9d70ea69e2"
   },
   "outputs": [
    {
     "name": "stdout",
     "output_type": "stream",
     "text": [
      "Requirement already satisfied: bioinfokit in c:\\users\\ankur\\anaconda3\\lib\\site-packages (2.0.8)\n",
      "Requirement already satisfied: textwrap3 in c:\\users\\ankur\\anaconda3\\lib\\site-packages (from bioinfokit) (0.9.2)\n",
      "Requirement already satisfied: numpy in c:\\users\\ankur\\anaconda3\\lib\\site-packages (from bioinfokit) (1.21.5)\n",
      "Requirement already satisfied: scipy in c:\\users\\ankur\\anaconda3\\lib\\site-packages (from bioinfokit) (1.7.3)\n",
      "Requirement already satisfied: tabulate in c:\\users\\ankur\\anaconda3\\lib\\site-packages (from bioinfokit) (0.8.9)\n",
      "Requirement already satisfied: statsmodels in c:\\users\\ankur\\anaconda3\\lib\\site-packages (from bioinfokit) (0.13.2)\n",
      "Requirement already satisfied: seaborn in c:\\users\\ankur\\anaconda3\\lib\\site-packages (from bioinfokit) (0.11.2)\n",
      "Requirement already satisfied: scikit-learn in c:\\users\\ankur\\anaconda3\\lib\\site-packages (from bioinfokit) (1.0.2)\n",
      "Requirement already satisfied: matplotlib in c:\\users\\ankur\\anaconda3\\lib\\site-packages (from bioinfokit) (3.5.1)\n",
      "Requirement already satisfied: adjustText in c:\\users\\ankur\\anaconda3\\lib\\site-packages (from bioinfokit) (0.7.3)\n",
      "Requirement already satisfied: pandas in c:\\users\\ankur\\anaconda3\\lib\\site-packages (from bioinfokit) (1.4.2)\n",
      "Requirement already satisfied: matplotlib-venn in c:\\users\\ankur\\anaconda3\\lib\\site-packages (from bioinfokit) (0.11.7)\n",
      "Requirement already satisfied: pillow>=6.2.0 in c:\\users\\ankur\\anaconda3\\lib\\site-packages (from matplotlib->bioinfokit) (9.0.1)\n",
      "Requirement already satisfied: packaging>=20.0 in c:\\users\\ankur\\anaconda3\\lib\\site-packages (from matplotlib->bioinfokit) (21.3)\n",
      "Requirement already satisfied: python-dateutil>=2.7 in c:\\users\\ankur\\anaconda3\\lib\\site-packages (from matplotlib->bioinfokit) (2.8.2)\n",
      "Requirement already satisfied: fonttools>=4.22.0 in c:\\users\\ankur\\anaconda3\\lib\\site-packages (from matplotlib->bioinfokit) (4.25.0)\n",
      "Requirement already satisfied: pyparsing>=2.2.1 in c:\\users\\ankur\\anaconda3\\lib\\site-packages (from matplotlib->bioinfokit) (3.0.4)\n",
      "Requirement already satisfied: cycler>=0.10 in c:\\users\\ankur\\anaconda3\\lib\\site-packages (from matplotlib->bioinfokit) (0.11.0)\n",
      "Requirement already satisfied: kiwisolver>=1.0.1 in c:\\users\\ankur\\anaconda3\\lib\\site-packages (from matplotlib->bioinfokit) (1.3.2)\n",
      "Requirement already satisfied: six>=1.5 in c:\\users\\ankur\\anaconda3\\lib\\site-packages (from python-dateutil>=2.7->matplotlib->bioinfokit) (1.16.0)\n",
      "Requirement already satisfied: pytz>=2020.1 in c:\\users\\ankur\\anaconda3\\lib\\site-packages (from pandas->bioinfokit) (2021.3)\n",
      "Requirement already satisfied: threadpoolctl>=2.0.0 in c:\\users\\ankur\\anaconda3\\lib\\site-packages (from scikit-learn->bioinfokit) (2.2.0)\n",
      "Requirement already satisfied: joblib>=0.11 in c:\\users\\ankur\\anaconda3\\lib\\site-packages (from scikit-learn->bioinfokit) (1.1.0)\n",
      "Requirement already satisfied: patsy>=0.5.2 in c:\\users\\ankur\\anaconda3\\lib\\site-packages (from statsmodels->bioinfokit) (0.5.2)\n"
     ]
    }
   ],
   "source": [
    "!pip install bioinfokit"
   ]
  },
  {
   "cell_type": "code",
   "execution_count": null,
   "metadata": {
    "colab": {
     "base_uri": "https://localhost:8080/"
    },
    "id": "HJq5vEI23GGa",
    "outputId": "968f04a6-ffbc-4886-a2f9-cdcd63e9a17f"
   },
   "outputs": [
    {
     "data": {
      "text/plain": [
       "['setosa', 'versicolor', 'virginica']"
      ]
     },
     "execution_count": 173,
     "metadata": {},
     "output_type": "execute_result"
    }
   ],
   "source": [
    "list(df4.columns)"
   ]
  },
  {
   "cell_type": "markdown",
   "metadata": {
    "id": "DDcNOZxN_RP-"
   },
   "source": [
    "**Null hypothesis: Groups of sepal length (cm) means are equal (no variation in means of groups of sepal length (cm))**\n",
    "\n",
    "**H0: μ1=μ2=…=μp**\n",
    "\n",
    "**Alternative hypothesis: At least, one group of sepal length (cm) mean is different from other groups of sepal length (cm)**\n",
    "\n",
    "**H1: All μ are not equal.**"
   ]
  },
  {
   "cell_type": "code",
   "execution_count": null,
   "metadata": {
    "colab": {
     "base_uri": "https://localhost:8080/"
    },
    "id": "FUXjwtQHJciD",
    "outputId": "f4094820-ea26-4ffa-ec48-52626ae0302d"
   },
   "outputs": [
    {
     "name": "stdout",
     "output_type": "stream",
     "text": [
      "119.26450218450468 1.6696691907693826e-31\n"
     ]
    }
   ],
   "source": [
    "# stats f_oneway functions takes the groups as input and returns ANOVA F and p value\n",
    "fvalue, pvalue = stats.f_oneway(df4[df4.columns[0]],df4[df4.columns[1]],df4[df4.columns[2]])\n",
    "print(fvalue, pvalue)"
   ]
  },
  {
   "cell_type": "code",
   "execution_count": null,
   "metadata": {
    "colab": {
     "base_uri": "https://localhost:8080/",
     "height": 112
    },
    "id": "GBlLTv74tcyx",
    "outputId": "23879fcf-5b06-4e71-d8f8-75d3af89d74d"
   },
   "outputs": [
    {
     "data": {
      "text/html": [
       "<div>\n",
       "<style scoped>\n",
       "    .dataframe tbody tr th:only-of-type {\n",
       "        vertical-align: middle;\n",
       "    }\n",
       "\n",
       "    .dataframe tbody tr th {\n",
       "        vertical-align: top;\n",
       "    }\n",
       "\n",
       "    .dataframe thead th {\n",
       "        text-align: right;\n",
       "    }\n",
       "</style>\n",
       "<table border=\"1\" class=\"dataframe\">\n",
       "  <thead>\n",
       "    <tr style=\"text-align: right;\">\n",
       "      <th></th>\n",
       "      <th>sum_sq</th>\n",
       "      <th>df</th>\n",
       "      <th>F</th>\n",
       "      <th>PR(&gt;F)</th>\n",
       "    </tr>\n",
       "  </thead>\n",
       "  <tbody>\n",
       "    <tr>\n",
       "      <th>C(treatments)</th>\n",
       "      <td>63.212133</td>\n",
       "      <td>2.0</td>\n",
       "      <td>119.264502</td>\n",
       "      <td>1.669669e-31</td>\n",
       "    </tr>\n",
       "    <tr>\n",
       "      <th>Residual</th>\n",
       "      <td>38.956200</td>\n",
       "      <td>147.0</td>\n",
       "      <td>NaN</td>\n",
       "      <td>NaN</td>\n",
       "    </tr>\n",
       "  </tbody>\n",
       "</table>\n",
       "</div>"
      ],
      "text/plain": [
       "                  sum_sq     df           F        PR(>F)\n",
       "C(treatments)  63.212133    2.0  119.264502  1.669669e-31\n",
       "Residual       38.956200  147.0         NaN           NaN"
      ]
     },
     "execution_count": 175,
     "metadata": {},
     "output_type": "execute_result"
    }
   ],
   "source": [
    "# Ordinary Least Squares (OLS) model\n",
    "model = ols('value ~ C(treatments)', data=df_melt).fit()\n",
    "anova_table = sm.stats.anova_lm(model, typ=2)\n",
    "anova_table"
   ]
  },
  {
   "cell_type": "code",
   "execution_count": null,
   "metadata": {
    "colab": {
     "base_uri": "https://localhost:8080/",
     "height": 112
    },
    "id": "kB8waJhZEqTm",
    "outputId": "9a463c04-f680-4f4f-e04d-771901f7d54c"
   },
   "outputs": [
    {
     "data": {
      "text/html": [
       "<div>\n",
       "<style scoped>\n",
       "    .dataframe tbody tr th:only-of-type {\n",
       "        vertical-align: middle;\n",
       "    }\n",
       "\n",
       "    .dataframe tbody tr th {\n",
       "        vertical-align: top;\n",
       "    }\n",
       "\n",
       "    .dataframe thead th {\n",
       "        text-align: right;\n",
       "    }\n",
       "</style>\n",
       "<table border=\"1\" class=\"dataframe\">\n",
       "  <thead>\n",
       "    <tr style=\"text-align: right;\">\n",
       "      <th></th>\n",
       "      <th>df</th>\n",
       "      <th>sum_sq</th>\n",
       "      <th>mean_sq</th>\n",
       "      <th>F</th>\n",
       "      <th>PR(&gt;F)</th>\n",
       "    </tr>\n",
       "  </thead>\n",
       "  <tbody>\n",
       "    <tr>\n",
       "      <th>C(treatments)</th>\n",
       "      <td>2.0</td>\n",
       "      <td>63.212133</td>\n",
       "      <td>31.606067</td>\n",
       "      <td>119.264502</td>\n",
       "      <td>1.669669e-31</td>\n",
       "    </tr>\n",
       "    <tr>\n",
       "      <th>Residual</th>\n",
       "      <td>147.0</td>\n",
       "      <td>38.956200</td>\n",
       "      <td>0.265008</td>\n",
       "      <td>NaN</td>\n",
       "      <td>NaN</td>\n",
       "    </tr>\n",
       "  </tbody>\n",
       "</table>\n",
       "</div>"
      ],
      "text/plain": [
       "                  df     sum_sq    mean_sq           F        PR(>F)\n",
       "C(treatments)    2.0  63.212133  31.606067  119.264502  1.669669e-31\n",
       "Residual       147.0  38.956200   0.265008         NaN           NaN"
      ]
     },
     "execution_count": 176,
     "metadata": {},
     "output_type": "execute_result"
    }
   ],
   "source": [
    "# ANOVA table using bioinfokit v1.0.3 or later (it uses wrapper script for anova_lm)\n",
    "from bioinfokit.analys import stat\n",
    "res = stat()\n",
    "res.anova_stat(df=df_melt, res_var='value', anova_model='value ~ C(treatments)')\n",
    "res.anova_summary"
   ]
  },
  {
   "cell_type": "markdown",
   "metadata": {
    "id": "mUGR7Dt94FZR"
   },
   "source": [
    "**The p value obtained from ANOVA analysis is significant (p < 0.05), and therefore, we conclude that there are significant differences among treatments.**"
   ]
  },
  {
   "cell_type": "code",
   "execution_count": null,
   "metadata": {
    "colab": {
     "base_uri": "https://localhost:8080/",
     "height": 199
    },
    "id": "GX39qg1_EqQc",
    "outputId": "36303177-4132-4346-b8d5-8de7dc1ddeda"
   },
   "outputs": [
    {
     "name": "stderr",
     "output_type": "stream",
     "text": [
      "C:\\Users\\ankur\\anaconda3\\lib\\site-packages\\bioinfokit\\analys.py:402: FutureWarning: Dropping of nuisance columns in DataFrame reductions (with 'numeric_only=None') is deprecated; in a future version this will raise TypeError.  Select only valid columns before calling the reduction.\n",
      "  mult_group[ele] = df[df[xfac_var] == ele].mean().loc[res_var]\n"
     ]
    },
    {
     "data": {
      "text/html": [
       "<div>\n",
       "<style scoped>\n",
       "    .dataframe tbody tr th:only-of-type {\n",
       "        vertical-align: middle;\n",
       "    }\n",
       "\n",
       "    .dataframe tbody tr th {\n",
       "        vertical-align: top;\n",
       "    }\n",
       "\n",
       "    .dataframe thead th {\n",
       "        text-align: right;\n",
       "    }\n",
       "</style>\n",
       "<table border=\"1\" class=\"dataframe\">\n",
       "  <thead>\n",
       "    <tr style=\"text-align: right;\">\n",
       "      <th></th>\n",
       "      <th>group1</th>\n",
       "      <th>group2</th>\n",
       "      <th>Diff</th>\n",
       "      <th>Lower</th>\n",
       "      <th>Upper</th>\n",
       "      <th>q-value</th>\n",
       "      <th>p-value</th>\n",
       "    </tr>\n",
       "  </thead>\n",
       "  <tbody>\n",
       "    <tr>\n",
       "      <th>0</th>\n",
       "      <td>setosa</td>\n",
       "      <td>versicolor</td>\n",
       "      <td>0.930</td>\n",
       "      <td>0.686209</td>\n",
       "      <td>1.173791</td>\n",
       "      <td>12.774336</td>\n",
       "      <td>0.001</td>\n",
       "    </tr>\n",
       "    <tr>\n",
       "      <th>1</th>\n",
       "      <td>setosa</td>\n",
       "      <td>virginica</td>\n",
       "      <td>1.582</td>\n",
       "      <td>1.338209</td>\n",
       "      <td>1.825791</td>\n",
       "      <td>21.730107</td>\n",
       "      <td>0.001</td>\n",
       "    </tr>\n",
       "    <tr>\n",
       "      <th>2</th>\n",
       "      <td>versicolor</td>\n",
       "      <td>virginica</td>\n",
       "      <td>0.652</td>\n",
       "      <td>0.408209</td>\n",
       "      <td>0.895791</td>\n",
       "      <td>8.955771</td>\n",
       "      <td>0.001</td>\n",
       "    </tr>\n",
       "  </tbody>\n",
       "</table>\n",
       "</div>"
      ],
      "text/plain": [
       "       group1      group2   Diff     Lower     Upper    q-value  p-value\n",
       "0      setosa  versicolor  0.930  0.686209  1.173791  12.774336    0.001\n",
       "1      setosa   virginica  1.582  1.338209  1.825791  21.730107    0.001\n",
       "2  versicolor   virginica  0.652  0.408209  0.895791   8.955771    0.001"
      ]
     },
     "execution_count": 177,
     "metadata": {},
     "output_type": "execute_result"
    }
   ],
   "source": [
    "# we will use bioinfokit (v1.0.3 or later) for performing tukey HSD test\n",
    "from bioinfokit.analys import stat\n",
    "# perform multiple pairwise comparison (Tukey's HSD)\n",
    "# unequal sample size data, tukey_hsd uses Tukey-Kramer test\n",
    "res = stat()\n",
    "res.tukey_hsd(df=df_melt, res_var='value', xfac_var='treatments', anova_model='value ~ C(treatments)')\n",
    "res.tukey_summary"
   ]
  },
  {
   "cell_type": "markdown",
   "metadata": {
    "id": "cYy-4wKV4Rqp"
   },
   "source": [
    "**Above results from Tukey’s HSD suggests that, all other pairwise comparisons for treatments rejects null hypothesis (p < 0.05) and indicates statistical significant differences.**"
   ]
  },
  {
   "cell_type": "code",
   "execution_count": null,
   "metadata": {
    "colab": {
     "base_uri": "https://localhost:8080/",
     "height": 597
    },
    "id": "DYnHlWCOEqNl",
    "outputId": "3d2cf59a-a2d7-4994-f46c-a352779ecee9"
   },
   "outputs": [
    {
     "data": {
      "image/png": "[encoded data removed]",
      "text/plain": [
       "<Figure size 432x288 with 1 Axes>"
      ]
     },
     "metadata": {
      "needs_background": "light"
     },
     "output_type": "display_data"
    },
    {
     "name": "stderr",
     "output_type": "stream",
     "text": [
      "C:\\Users\\ankur\\anaconda3\\lib\\site-packages\\seaborn\\distributions.py:2619: FutureWarning: `distplot` is a deprecated function and will be removed in a future version. Please adapt your code to use either `displot` (a figure-level function with similar flexibility) or `histplot` (an axes-level function for histograms).\n",
      "  warnings.warn(msg, FutureWarning)\n"
     ]
    },
    {
     "data": {
      "image/png": "[encoded data removed]",
      "text/plain": [
       "<Figure size 432x288 with 1 Axes>"
      ]
     },
     "metadata": {
      "needs_background": "light"
     },
     "output_type": "display_data"
    }
   ],
   "source": [
    "# QQ-plot\n",
    "# res.anova_std_residuals are standardized residuals obtained from ANOVA (check above)\n",
    "sm.qqplot(res.anova_std_residuals, line='45')\n",
    "plt.xlabel(\"Theoretical Quantiles\")\n",
    "plt.ylabel(\"Standardized Residuals\")\n",
    "plt.show()\n",
    "\n",
    "# histogram\n",
    "sns.distplot(res.anova_model_out.resid) \n",
    "plt.xlabel(\"Residuals\")\n",
    "plt.ylabel('Frequency')\n",
    "plt.show()"
   ]
  },
  {
   "cell_type": "markdown",
   "metadata": {
    "id": "qg8az2XQ5NtQ"
   },
   "source": [
    "**the standardized residuals lie around the 45-degree line, it suggests that the residuals are approximately normally distributed**\n",
    "\n",
    "**In the histogram, the distribution looks approximately normal and suggests that residuals are approximately normally distributed**"
   ]
  },
  {
   "cell_type": "markdown",
   "metadata": {
    "id": "p7MnUCWL5kgx"
   },
   "source": [
    "**Shapiro-Wilk test can be used to check the normal distribution of residuals.**\n",
    " \n",
    "**Null hypothesis: data is drawn from normal distribution.**"
   ]
  },
  {
   "cell_type": "code",
   "execution_count": null,
   "metadata": {
    "colab": {
     "base_uri": "https://localhost:8080/"
    },
    "id": "wxctNGKmEqJn",
    "outputId": "6c785e6f-971c-4aaf-8877-2b5267a6ffba"
   },
   "outputs": [
    {
     "name": "stdout",
     "output_type": "stream",
     "text": [
      "0.987898051738739 0.21889623999595642\n"
     ]
    }
   ],
   "source": [
    "import scipy.stats as stats\n",
    "w, pvalue = stats.shapiro(model.resid)\n",
    "print(w, pvalue)"
   ]
  },
  {
   "cell_type": "markdown",
   "metadata": {
    "id": "kLZJC8_c54yW"
   },
   "source": [
    "**As the p value is significant, we reject null hypothesis and conclude that data is not drawn from normal distribution.**"
   ]
  },
  {
   "cell_type": "markdown",
   "metadata": {
    "id": "ybXrvGQg6zzn"
   },
   "source": [
    "**As the data is not drawn from normal distribution Levene’s test can be used to check the Homogeneity of variances.**"
   ]
  },
  {
   "cell_type": "code",
   "execution_count": null,
   "metadata": {
    "colab": {
     "base_uri": "https://localhost:8080/",
     "height": 143
    },
    "id": "ZsDgfFP0C5Af",
    "outputId": "d6966414-d96b-4fa2-c8d2-e08810dbe078"
   },
   "outputs": [
    {
     "data": {
      "text/html": [
       "<div>\n",
       "<style scoped>\n",
       "    .dataframe tbody tr th:only-of-type {\n",
       "        vertical-align: middle;\n",
       "    }\n",
       "\n",
       "    .dataframe tbody tr th {\n",
       "        vertical-align: top;\n",
       "    }\n",
       "\n",
       "    .dataframe thead th {\n",
       "        text-align: right;\n",
       "    }\n",
       "</style>\n",
       "<table border=\"1\" class=\"dataframe\">\n",
       "  <thead>\n",
       "    <tr style=\"text-align: right;\">\n",
       "      <th></th>\n",
       "      <th>Parameter</th>\n",
       "      <th>Value</th>\n",
       "    </tr>\n",
       "  </thead>\n",
       "  <tbody>\n",
       "    <tr>\n",
       "      <th>0</th>\n",
       "      <td>Test statistics (W)</td>\n",
       "      <td>6.3527</td>\n",
       "    </tr>\n",
       "    <tr>\n",
       "      <th>1</th>\n",
       "      <td>Degrees of freedom (Df)</td>\n",
       "      <td>2.0000</td>\n",
       "    </tr>\n",
       "    <tr>\n",
       "      <th>2</th>\n",
       "      <td>p value</td>\n",
       "      <td>0.0023</td>\n",
       "    </tr>\n",
       "  </tbody>\n",
       "</table>\n",
       "</div>"
      ],
      "text/plain": [
       "                 Parameter   Value\n",
       "0      Test statistics (W)  6.3527\n",
       "1  Degrees of freedom (Df)  2.0000\n",
       "2                  p value  0.0023"
      ]
     },
     "execution_count": 180,
     "metadata": {},
     "output_type": "execute_result"
    }
   ],
   "source": [
    "# if you have a stacked table, you can use bioinfokit v1.0.3 or later for the Levene's test\n",
    "from bioinfokit.analys import stat \n",
    "res = stat()\n",
    "res.levene(df=df_melt, res_var='value', xfac_var='treatments')\n",
    "res.levene_summary"
   ]
  },
  {
   "cell_type": "markdown",
   "metadata": {
    "id": "nmYeToqt84Jk"
   },
   "source": [
    "**As the p value is non significant, we fail to reject null hypothesis and conclude that data have Homogeneity of variances**"
   ]
  },
  {
   "cell_type": "markdown",
   "metadata": {
    "id": "_QAmwACHp52O"
   },
   "source": [
    "**FOR THE NOTEBOOK**\n",
    "\n",
    "**Q1. Perform The Ztest For 1 Sample And Proportion Using Standard Libraries**\n",
    "\n",
    "**Q2. Also Analysis Visualization For The Same.**"
   ]
  },
  {
   "cell_type": "markdown",
   "metadata": {
    "id": "CEs3B-8Yp7fa"
   },
   "source": [
    "## **Analyzing the average heights of NBA Players**"
   ]
  },
  {
   "cell_type": "code",
   "execution_count": null,
   "metadata": {
    "colab": {
     "base_uri": "https://localhost:8080/",
     "height": 409
    },
    "id": "9ghK0cKNpgfB",
    "outputId": "68d5ce15-93ef-4cf8-d2f0-661c70e13d13"
   },
   "outputs": [
    {
     "data": {
      "text/html": [
       "<div>\n",
       "<style scoped>\n",
       "    .dataframe tbody tr th:only-of-type {\n",
       "        vertical-align: middle;\n",
       "    }\n",
       "\n",
       "    .dataframe tbody tr th {\n",
       "        vertical-align: top;\n",
       "    }\n",
       "\n",
       "    .dataframe thead th {\n",
       "        text-align: right;\n",
       "    }\n",
       "</style>\n",
       "<table border=\"1\" class=\"dataframe\">\n",
       "  <thead>\n",
       "    <tr style=\"text-align: right;\">\n",
       "      <th></th>\n",
       "      <th>Name</th>\n",
       "      <th>Games Played</th>\n",
       "      <th>MIN</th>\n",
       "      <th>PTS</th>\n",
       "      <th>FGM</th>\n",
       "      <th>FGA</th>\n",
       "      <th>FG%</th>\n",
       "      <th>3PM</th>\n",
       "      <th>3PA</th>\n",
       "      <th>3P%</th>\n",
       "      <th>FTM</th>\n",
       "      <th>FTA</th>\n",
       "      <th>FT%</th>\n",
       "      <th>OREB</th>\n",
       "      <th>DREB</th>\n",
       "      <th>REB</th>\n",
       "      <th>AST</th>\n",
       "      <th>STL</th>\n",
       "      <th>BLK</th>\n",
       "      <th>TOV</th>\n",
       "      <th>PF</th>\n",
       "      <th>EFF</th>\n",
       "      <th>AST/TOV</th>\n",
       "      <th>STL/TOV</th>\n",
       "      <th>Age</th>\n",
       "      <th>Birth_Place</th>\n",
       "      <th>Birthdate</th>\n",
       "      <th>Collage</th>\n",
       "      <th>Experience</th>\n",
       "      <th>Height</th>\n",
       "      <th>Pos</th>\n",
       "      <th>Team</th>\n",
       "      <th>Weight</th>\n",
       "      <th>BMI</th>\n",
       "    </tr>\n",
       "  </thead>\n",
       "  <tbody>\n",
       "    <tr>\n",
       "      <th>0</th>\n",
       "      <td>AJ Price</td>\n",
       "      <td>26</td>\n",
       "      <td>324</td>\n",
       "      <td>133</td>\n",
       "      <td>51</td>\n",
       "      <td>137</td>\n",
       "      <td>37.2</td>\n",
       "      <td>15</td>\n",
       "      <td>57</td>\n",
       "      <td>26.3</td>\n",
       "      <td>16</td>\n",
       "      <td>24</td>\n",
       "      <td>66.7</td>\n",
       "      <td>6</td>\n",
       "      <td>26</td>\n",
       "      <td>32</td>\n",
       "      <td>46</td>\n",
       "      <td>7</td>\n",
       "      <td>0</td>\n",
       "      <td>14</td>\n",
       "      <td>15</td>\n",
       "      <td>110</td>\n",
       "      <td>3.29</td>\n",
       "      <td>0.50</td>\n",
       "      <td>29.0</td>\n",
       "      <td>us</td>\n",
       "      <td>October 7, 1986</td>\n",
       "      <td>University of Connecticut</td>\n",
       "      <td>5</td>\n",
       "      <td>185.0</td>\n",
       "      <td>PG</td>\n",
       "      <td>PHO</td>\n",
       "      <td>81.45</td>\n",
       "      <td>23.798393</td>\n",
       "    </tr>\n",
       "    <tr>\n",
       "      <th>1</th>\n",
       "      <td>Aaron Brooks</td>\n",
       "      <td>82</td>\n",
       "      <td>1885</td>\n",
       "      <td>954</td>\n",
       "      <td>344</td>\n",
       "      <td>817</td>\n",
       "      <td>42.1</td>\n",
       "      <td>121</td>\n",
       "      <td>313</td>\n",
       "      <td>38.7</td>\n",
       "      <td>145</td>\n",
       "      <td>174</td>\n",
       "      <td>83.3</td>\n",
       "      <td>32</td>\n",
       "      <td>134</td>\n",
       "      <td>166</td>\n",
       "      <td>261</td>\n",
       "      <td>54</td>\n",
       "      <td>15</td>\n",
       "      <td>157</td>\n",
       "      <td>189</td>\n",
       "      <td>791</td>\n",
       "      <td>1.66</td>\n",
       "      <td>0.34</td>\n",
       "      <td>30.0</td>\n",
       "      <td>us</td>\n",
       "      <td>January 14, 1985</td>\n",
       "      <td>University of Oregon</td>\n",
       "      <td>6</td>\n",
       "      <td>180.0</td>\n",
       "      <td>PG</td>\n",
       "      <td>CHI</td>\n",
       "      <td>72.45</td>\n",
       "      <td>22.361111</td>\n",
       "    </tr>\n",
       "    <tr>\n",
       "      <th>2</th>\n",
       "      <td>Aaron Gordon</td>\n",
       "      <td>47</td>\n",
       "      <td>797</td>\n",
       "      <td>243</td>\n",
       "      <td>93</td>\n",
       "      <td>208</td>\n",
       "      <td>44.7</td>\n",
       "      <td>13</td>\n",
       "      <td>48</td>\n",
       "      <td>27.1</td>\n",
       "      <td>44</td>\n",
       "      <td>61</td>\n",
       "      <td>72.1</td>\n",
       "      <td>46</td>\n",
       "      <td>123</td>\n",
       "      <td>169</td>\n",
       "      <td>33</td>\n",
       "      <td>21</td>\n",
       "      <td>22</td>\n",
       "      <td>38</td>\n",
       "      <td>83</td>\n",
       "      <td>318</td>\n",
       "      <td>0.87</td>\n",
       "      <td>0.55</td>\n",
       "      <td>20.0</td>\n",
       "      <td>us</td>\n",
       "      <td>September 16, 1995</td>\n",
       "      <td>University of Arizona</td>\n",
       "      <td>R</td>\n",
       "      <td>202.5</td>\n",
       "      <td>PF</td>\n",
       "      <td>ORL</td>\n",
       "      <td>99.00</td>\n",
       "      <td>24.142661</td>\n",
       "    </tr>\n",
       "    <tr>\n",
       "      <th>3</th>\n",
       "      <td>Adreian Payne</td>\n",
       "      <td>32</td>\n",
       "      <td>740</td>\n",
       "      <td>213</td>\n",
       "      <td>91</td>\n",
       "      <td>220</td>\n",
       "      <td>41.4</td>\n",
       "      <td>1</td>\n",
       "      <td>9</td>\n",
       "      <td>11.1</td>\n",
       "      <td>30</td>\n",
       "      <td>46</td>\n",
       "      <td>65.2</td>\n",
       "      <td>48</td>\n",
       "      <td>114</td>\n",
       "      <td>162</td>\n",
       "      <td>30</td>\n",
       "      <td>19</td>\n",
       "      <td>9</td>\n",
       "      <td>44</td>\n",
       "      <td>88</td>\n",
       "      <td>244</td>\n",
       "      <td>0.68</td>\n",
       "      <td>0.43</td>\n",
       "      <td>24.0</td>\n",
       "      <td>us</td>\n",
       "      <td>February 19, 1991</td>\n",
       "      <td>Michigan State University</td>\n",
       "      <td>R</td>\n",
       "      <td>205.0</td>\n",
       "      <td>PF</td>\n",
       "      <td>ATL</td>\n",
       "      <td>106.65</td>\n",
       "      <td>25.377751</td>\n",
       "    </tr>\n",
       "    <tr>\n",
       "      <th>4</th>\n",
       "      <td>Al Horford</td>\n",
       "      <td>76</td>\n",
       "      <td>2318</td>\n",
       "      <td>1156</td>\n",
       "      <td>519</td>\n",
       "      <td>965</td>\n",
       "      <td>53.8</td>\n",
       "      <td>11</td>\n",
       "      <td>36</td>\n",
       "      <td>30.6</td>\n",
       "      <td>107</td>\n",
       "      <td>141</td>\n",
       "      <td>75.9</td>\n",
       "      <td>131</td>\n",
       "      <td>413</td>\n",
       "      <td>544</td>\n",
       "      <td>244</td>\n",
       "      <td>68</td>\n",
       "      <td>98</td>\n",
       "      <td>100</td>\n",
       "      <td>121</td>\n",
       "      <td>1530</td>\n",
       "      <td>2.44</td>\n",
       "      <td>0.68</td>\n",
       "      <td>29.0</td>\n",
       "      <td>do</td>\n",
       "      <td>June 3, 1986</td>\n",
       "      <td>University of Florida</td>\n",
       "      <td>7</td>\n",
       "      <td>205.0</td>\n",
       "      <td>C</td>\n",
       "      <td>ATL</td>\n",
       "      <td>110.25</td>\n",
       "      <td>26.234384</td>\n",
       "    </tr>\n",
       "  </tbody>\n",
       "</table>\n",
       "</div>"
      ],
      "text/plain": [
       "            Name  Games Played   MIN   PTS  FGM  FGA   FG%  3PM  3PA   3P%  \\\n",
       "0       AJ Price            26   324   133   51  137  37.2   15   57  26.3   \n",
       "1   Aaron Brooks            82  1885   954  344  817  42.1  121  313  38.7   \n",
       "2   Aaron Gordon            47   797   243   93  208  44.7   13   48  27.1   \n",
       "3  Adreian Payne            32   740   213   91  220  41.4    1    9  11.1   \n",
       "4     Al Horford            76  2318  1156  519  965  53.8   11   36  30.6   \n",
       "\n",
       "   FTM  FTA   FT%  OREB  DREB  REB  AST  STL  BLK  TOV   PF   EFF  AST/TOV  \\\n",
       "0   16   24  66.7     6    26   32   46    7    0   14   15   110     3.29   \n",
       "1  145  174  83.3    32   134  166  261   54   15  157  189   791     1.66   \n",
       "2   44   61  72.1    46   123  169   33   21   22   38   83   318     0.87   \n",
       "3   30   46  65.2    48   114  162   30   19    9   44   88   244     0.68   \n",
       "4  107  141  75.9   131   413  544  244   68   98  100  121  1530     2.44   \n",
       "\n",
       "   STL/TOV   Age Birth_Place           Birthdate                    Collage  \\\n",
       "0     0.50  29.0          us     October 7, 1986  University of Connecticut   \n",
       "1     0.34  30.0          us    January 14, 1985       University of Oregon   \n",
       "2     0.55  20.0          us  September 16, 1995      University of Arizona   \n",
       "3     0.43  24.0          us   February 19, 1991  Michigan State University   \n",
       "4     0.68  29.0          do        June 3, 1986      University of Florida   \n",
       "\n",
       "  Experience  Height Pos Team  Weight        BMI  \n",
       "0          5   185.0  PG  PHO   81.45  23.798393  \n",
       "1          6   180.0  PG  CHI   72.45  22.361111  \n",
       "2          R   202.5  PF  ORL   99.00  24.142661  \n",
       "3          R   205.0  PF  ATL  106.65  25.377751  \n",
       "4          7   205.0   C  ATL  110.25  26.234384  "
      ]
     },
     "execution_count": 181,
     "metadata": {},
     "output_type": "execute_result"
    }
   ],
   "source": [
    "df2 = pd.read_csv('D:\\\\CDAC\\\\Github\\\\Data_Analytics\\\\Anova_Hypothesis_Two_Sample_Testing\\\\players.csv')\n",
    "df2.head()"
   ]
  },
  {
   "cell_type": "code",
   "execution_count": null,
   "metadata": {
    "colab": {
     "base_uri": "https://localhost:8080/"
    },
    "id": "mEfKcs91qLPn",
    "outputId": "2766ab99-3202-4d50-c404-8b12de868e85"
   },
   "outputs": [
    {
     "data": {
      "text/plain": [
       "(490, 34)"
      ]
     },
     "execution_count": 182,
     "metadata": {},
     "output_type": "execute_result"
    }
   ],
   "source": [
    "df2.shape"
   ]
  },
  {
   "cell_type": "markdown",
   "metadata": {
    "id": "fwwoU4i3q0eZ"
   },
   "source": [
    "#### Hypothesis Testing\n",
    "\n",
    "One Sample Significance Test for Mean is extremely similar to that for Proportion. We will go through almost an identical process.\n",
    "\n",
    "The hypotheses are defined as follows:\n",
    "* **Null Hypothesis**: The average height of an NBA player is 200.66 cm.\n",
    "* **Alternate Hypothesis**: The average height of an NBA player is not 200.66 cm.\n",
    "\n",
    "Significance Level, $\\alpha$ is at 0.05. Assuming Null Hypothesis to be true."
   ]
  },
  {
   "cell_type": "code",
   "execution_count": null,
   "metadata": {
    "id": "sofv0BL3quEB"
   },
   "outputs": [],
   "source": [
    "h0_mean = 200.66   #google search\n",
    "t= df2['Height'].dropna()"
   ]
  },
  {
   "cell_type": "code",
   "execution_count": null,
   "metadata": {
    "colab": {
     "base_uri": "https://localhost:8080/"
    },
    "id": "FM6NCDVdrJhi",
    "outputId": "39311857-94da-447b-fc4d-8aad41cc5273"
   },
   "outputs": [
    {
     "data": {
      "text/plain": [
       "197.44075829383885"
      ]
     },
     "execution_count": 184,
     "metadata": {},
     "output_type": "execute_result"
    }
   ],
   "source": [
    "h1_mean = t.mean()                      #z=(x-mu)/sig/sqrt(n)\n",
    "h1_mean                                 #z=(x-mu)/sigma"
   ]
  },
  {
   "cell_type": "code",
   "execution_count": null,
   "metadata": {
    "colab": {
     "base_uri": "https://localhost:8080/"
    },
    "id": "4OrhwrtQrNAy",
    "outputId": "125cbd71-e59e-4385-a933-8931ecc0c029"
   },
   "outputs": [
    {
     "data": {
      "text/plain": [
       "0.3948442447237618"
      ]
     },
     "execution_count": 185,
     "metadata": {},
     "output_type": "execute_result"
    }
   ],
   "source": [
    "sigma = t.std()/np.sqrt(len(df2['Height']))\n",
    "sigma"
   ]
  },
  {
   "cell_type": "code",
   "execution_count": null,
   "metadata": {
    "colab": {
     "base_uri": "https://localhost:8080/"
    },
    "id": "1vLL-uh1sIM5",
    "outputId": "e9939d34-40c3-4860-db89-87f910ec2eef"
   },
   "outputs": [
    {
     "data": {
      "text/plain": [
       "-8.15319394718129"
      ]
     },
     "execution_count": 186,
     "metadata": {},
     "output_type": "execute_result"
    }
   ],
   "source": [
    "z = (h1_mean - h0_mean)/sigma\n",
    "z"
   ]
  },
  {
   "cell_type": "code",
   "execution_count": null,
   "metadata": {
    "colab": {
     "base_uri": "https://localhost:8080/"
    },
    "id": "IK6eP-2asN80",
    "outputId": "5b467717-d800-41cf-f248-2526d5d57fd1"
   },
   "outputs": [
    {
     "data": {
      "text/plain": [
       "4.440892098500626e-16"
      ]
     },
     "execution_count": 187,
     "metadata": {},
     "output_type": "execute_result"
    }
   ],
   "source": [
    "#p_val = (1 - stats.norm.cdf(abs(z))) #ONE TAIL  I.E LOWER TAIL PART\n",
    "p_val = (1 - stats.norm.cdf(abs(z)))*2   #TWO TAIL            #pval or prob value             pval<alpha\n",
    "p_val"
   ]
  },
  {
   "cell_type": "code",
   "execution_count": null,
   "metadata": {
    "colab": {
     "base_uri": "https://localhost:8080/"
    },
    "id": "eoGXN1MRshYK",
    "outputId": "7ba93a13-b09a-4f25-8888-6015983e657f"
   },
   "outputs": [
    {
     "data": {
      "text/plain": [
       "(-7.566341847897391, 3.838810356044806e-14)"
      ]
     },
     "execution_count": 188,
     "metadata": {},
     "output_type": "execute_result"
    }
   ],
   "source": [
    "sm.stats.ztest(df2['Height'].dropna() ,value=200.66)"
   ]
  },
  {
   "cell_type": "code",
   "execution_count": null,
   "metadata": {
    "colab": {
     "base_uri": "https://localhost:8080/",
     "height": 353
    },
    "id": "X1mLSpkcsiWp",
    "outputId": "76ac3314-ef8a-48c3-f80f-6fdfa4679f24"
   },
   "outputs": [
    {
     "name": "stderr",
     "output_type": "stream",
     "text": [
      "C:\\Users\\ankur\\anaconda3\\lib\\site-packages\\seaborn\\distributions.py:2619: FutureWarning: `distplot` is a deprecated function and will be removed in a future version. Please adapt your code to use either `displot` (a figure-level function with similar flexibility) or `histplot` (an axes-level function for histograms).\n",
      "  warnings.warn(msg, FutureWarning)\n"
     ]
    },
    {
     "data": {
      "text/plain": [
       "<matplotlib.collections.LineCollection at 0x1b659e0c8b0>"
      ]
     },
     "execution_count": 189,
     "metadata": {},
     "output_type": "execute_result"
    },
    {
     "data": {
      "image/png": "[encoded data removed]",
      "text/plain": [
       "<Figure size 432x288 with 1 Axes>"
      ]
     },
     "metadata": {
      "needs_background": "light"
     },
     "output_type": "display_data"
    }
   ],
   "source": [
    "sns.distplot(t)\n",
    "plt.vlines(h1_mean,ymin=0,ymax=.065,color='g')"
   ]
  },
  {
   "cell_type": "markdown",
   "metadata": {
    "id": "hmAELaRKstEV"
   },
   "source": [
    "**The p value obtained is much lesser than the significance level $\\alpha$. We therefore reject the null hypothesis and accept the alternate hypothesis (the negation). We can therefore arrive at the following conclusion from this analysis:**\n",
    "\n",
    "**The average height of NBA Players is NOT 6'7\"**."
   ]
  },
  {
   "cell_type": "markdown",
   "metadata": {
    "id": "6bAgiIZws29G"
   },
   "source": [
    "# Analyzing DEPRESSION in India by Gender\n",
    "\n",
    "Are men as likely to commit suicide as women?\n",
    "\n",
    "This is the question we will attempt at answering in this section. To answer this question, we will use suicide statistics shared by the National Crime Records Bureau (NCRB), Govt of India. To perform this analysis, we need to know the sex ratio in India. The Census 2011 report states that there are 940 females for every 1000 males in India.\n",
    "\n",
    "Let p denote the fraction of women in India."
   ]
  },
  {
   "cell_type": "markdown",
   "metadata": {
    "id": "lKSKvFJqs9-x"
   },
   "source": [
    "# H0:MEN AND WOMEN  ARE EQUALLY LIKELY TO DEPRESS    (NULL)\n",
    "# H1:MEN AND WOMEN  ARE  NOT EQUALLY LIKELY TO DEPRESS  (ALTERNATE)\n"
   ]
  },
  {
   "cell_type": "code",
   "execution_count": null,
   "metadata": {
    "colab": {
     "base_uri": "https://localhost:8080/"
    },
    "id": "NPyhnr7_snD_",
    "outputId": "cda3a9bf-cd46-4dbd-9f5b-fcc8f9132850"
   },
   "outputs": [
    {
     "data": {
      "text/plain": [
       "0.4845360824742268"
      ]
     },
     "execution_count": 190,
     "metadata": {},
     "output_type": "execute_result"
    }
   ],
   "source": [
    "p1 = 940/(940+1000)   # Female population proportion       \n",
    "p1 "
   ]
  },
  {
   "cell_type": "code",
   "execution_count": null,
   "metadata": {
    "colab": {
     "base_uri": "https://localhost:8080/",
     "height": 206
    },
    "id": "5ILGcAU8tFs0",
    "outputId": "ed6d8a92-1bb9-4ccf-fceb-e026a95fc1e0"
   },
   "outputs": [
    {
     "data": {
      "text/html": [
       "<div>\n",
       "<style scoped>\n",
       "    .dataframe tbody tr th:only-of-type {\n",
       "        vertical-align: middle;\n",
       "    }\n",
       "\n",
       "    .dataframe tbody tr th {\n",
       "        vertical-align: top;\n",
       "    }\n",
       "\n",
       "    .dataframe thead th {\n",
       "        text-align: right;\n",
       "    }\n",
       "</style>\n",
       "<table border=\"1\" class=\"dataframe\">\n",
       "  <thead>\n",
       "    <tr style=\"text-align: right;\">\n",
       "      <th></th>\n",
       "      <th>State</th>\n",
       "      <th>Year</th>\n",
       "      <th>Type_code</th>\n",
       "      <th>Type</th>\n",
       "      <th>Gender</th>\n",
       "      <th>Age_group</th>\n",
       "      <th>Total</th>\n",
       "    </tr>\n",
       "  </thead>\n",
       "  <tbody>\n",
       "    <tr>\n",
       "      <th>0</th>\n",
       "      <td>A &amp; N Islands</td>\n",
       "      <td>2001</td>\n",
       "      <td>Causes</td>\n",
       "      <td>Illness (Aids/STD)</td>\n",
       "      <td>Female</td>\n",
       "      <td>0-14</td>\n",
       "      <td>0</td>\n",
       "    </tr>\n",
       "    <tr>\n",
       "      <th>1</th>\n",
       "      <td>A &amp; N Islands</td>\n",
       "      <td>2001</td>\n",
       "      <td>Causes</td>\n",
       "      <td>Bankruptcy or Sudden change in Economic</td>\n",
       "      <td>Female</td>\n",
       "      <td>0-14</td>\n",
       "      <td>0</td>\n",
       "    </tr>\n",
       "    <tr>\n",
       "      <th>2</th>\n",
       "      <td>A &amp; N Islands</td>\n",
       "      <td>2001</td>\n",
       "      <td>Causes</td>\n",
       "      <td>Cancellation/Non-Settlement of Marriage</td>\n",
       "      <td>Female</td>\n",
       "      <td>0-14</td>\n",
       "      <td>0</td>\n",
       "    </tr>\n",
       "    <tr>\n",
       "      <th>3</th>\n",
       "      <td>A &amp; N Islands</td>\n",
       "      <td>2001</td>\n",
       "      <td>Causes</td>\n",
       "      <td>Physical Abuse (Rape/Incest Etc.)</td>\n",
       "      <td>Female</td>\n",
       "      <td>0-14</td>\n",
       "      <td>0</td>\n",
       "    </tr>\n",
       "    <tr>\n",
       "      <th>4</th>\n",
       "      <td>A &amp; N Islands</td>\n",
       "      <td>2001</td>\n",
       "      <td>Causes</td>\n",
       "      <td>Dowry Dispute</td>\n",
       "      <td>Female</td>\n",
       "      <td>0-14</td>\n",
       "      <td>0</td>\n",
       "    </tr>\n",
       "  </tbody>\n",
       "</table>\n",
       "</div>"
      ],
      "text/plain": [
       "           State  Year Type_code                                     Type  \\\n",
       "0  A & N Islands  2001    Causes                       Illness (Aids/STD)   \n",
       "1  A & N Islands  2001    Causes  Bankruptcy or Sudden change in Economic   \n",
       "2  A & N Islands  2001    Causes  Cancellation/Non-Settlement of Marriage   \n",
       "3  A & N Islands  2001    Causes        Physical Abuse (Rape/Incest Etc.)   \n",
       "4  A & N Islands  2001    Causes                            Dowry Dispute   \n",
       "\n",
       "   Gender Age_group  Total  \n",
       "0  Female      0-14      0  \n",
       "1  Female      0-14      0  \n",
       "2  Female      0-14      0  \n",
       "3  Female      0-14      0  \n",
       "4  Female      0-14      0  "
      ]
     },
     "execution_count": 191,
     "metadata": {},
     "output_type": "execute_result"
    }
   ],
   "source": [
    "df1 = pd.read_excel('D:\\\\CDAC\\\\Github\\\\Data_Analytics\\\\Anova_Hypothesis_Two_Sample_Testing\\\\Suicides.xlsx')\n",
    "df1.head()"
   ]
  },
  {
   "cell_type": "code",
   "execution_count": null,
   "metadata": {
    "colab": {
     "base_uri": "https://localhost:8080/"
    },
    "id": "cwN-QW5wtFpM",
    "outputId": "dd0e24fb-8e2d-4526-b932-2b4b9981deb5"
   },
   "outputs": [
    {
     "data": {
      "text/plain": [
       "(237519, 7)"
      ]
     },
     "execution_count": 192,
     "metadata": {},
     "output_type": "execute_result"
    }
   ],
   "source": [
    "df1.shape"
   ]
  },
  {
   "cell_type": "code",
   "execution_count": null,
   "metadata": {
    "colab": {
     "base_uri": "https://localhost:8080/"
    },
    "id": "BCXVg_D9tFgW",
    "outputId": "fd3366bb-4920-4e94-d0ff-920994ec2daf"
   },
   "outputs": [
    {
     "data": {
      "text/plain": [
       "Male      118879\n",
       "Female    118640\n",
       "Name: Gender, dtype: int64"
      ]
     },
     "execution_count": 193,
     "metadata": {},
     "output_type": "execute_result"
    }
   ],
   "source": [
    "df1['Gender'].value_counts()"
   ]
  },
  {
   "cell_type": "markdown",
   "metadata": {
    "id": "wR4hDe1jtgEY"
   },
   "source": [
    "#### Step 2: Decide on the Statsitical Test\n",
    "\n",
    "We will be using the One Sample Z-Test here."
   ]
  },
  {
   "cell_type": "markdown",
   "metadata": {
    "id": "EGW7o-J7toWD"
   },
   "source": [
    "#### Step 3: Compute the p-value"
   ]
  },
  {
   "cell_type": "code",
   "execution_count": null,
   "metadata": {
    "colab": {
     "base_uri": "https://localhost:8080/"
    },
    "id": "DeU0yyTktb_7",
    "outputId": "72071e13-f021-4c0f-8508-76d6bcb9eb70"
   },
   "outputs": [
    {
     "data": {
      "text/plain": [
       "0.4845360824742268"
      ]
     },
     "execution_count": 194,
     "metadata": {},
     "output_type": "execute_result"
    }
   ],
   "source": [
    "h0_prop1 = p1\n",
    "h0_prop1"
   ]
  },
  {
   "cell_type": "code",
   "execution_count": null,
   "metadata": {
    "colab": {
     "base_uri": "https://localhost:8080/"
    },
    "id": "AmNYkhRXtxZV",
    "outputId": "37d6427b-99bf-44f5-b390-4b5edf9109fd"
   },
   "outputs": [
    {
     "data": {
      "text/plain": [
       "0.49949688235467476"
      ]
     },
     "execution_count": 195,
     "metadata": {},
     "output_type": "execute_result"
    }
   ],
   "source": [
    "h1_prop1 = df1['Gender'].value_counts()['Female']/len(df1['Gender'])\n",
    "h1_prop1"
   ]
  },
  {
   "cell_type": "code",
   "execution_count": null,
   "metadata": {
    "colab": {
     "base_uri": "https://localhost:8080/"
    },
    "id": "yhIDXrhZtxWA",
    "outputId": "7a8e8e50-1486-4575-cc4d-8f7a7d134bc0"
   },
   "outputs": [
    {
     "data": {
      "text/plain": [
       "0.0010254465276083747"
      ]
     },
     "execution_count": 196,
     "metadata": {},
     "output_type": "execute_result"
    }
   ],
   "source": [
    "sigma_prop1 = np.sqrt((h0_prop1 * (1 - h0_prop1))/len(df1['Gender']))\n",
    "sigma_prop1"
   ]
  },
  {
   "cell_type": "code",
   "execution_count": null,
   "metadata": {
    "colab": {
     "base_uri": "https://localhost:8080/"
    },
    "id": "vLAXMzyTtxSf",
    "outputId": "79b761d7-5b60-4152-d516-8cd52977f03f"
   },
   "outputs": [
    {
     "data": {
      "text/plain": [
       "14.589546580591277"
      ]
     },
     "execution_count": 197,
     "metadata": {},
     "output_type": "execute_result"
    }
   ],
   "source": [
    "z1 = (h1_prop1 - h0_prop1)/sigma_prop1\n",
    "z1"
   ]
  },
  {
   "cell_type": "code",
   "execution_count": null,
   "metadata": {
    "colab": {
     "base_uri": "https://localhost:8080/"
    },
    "id": "XXtVW9MZtxID",
    "outputId": "7f93fb2c-2190-4421-f051-977d3ca2cd92"
   },
   "outputs": [
    {
     "data": {
      "text/plain": [
       "0.0"
      ]
     },
     "execution_count": 198,
     "metadata": {},
     "output_type": "execute_result"
    }
   ],
   "source": [
    "p_val1 = (1-stats.norm.cdf(z1))*2       # pval<aplha\n",
    "p_val1"
   ]
  },
  {
   "cell_type": "markdown",
   "metadata": {
    "id": "-seYmqMCt-6b"
   },
   "source": [
    "**The p value obtained is much lesser than the significance level  α . We therefore reject the null hypothesis and accept the alternate hypothesis (the negation). We can therefore arrive at the following conclusion from this analysis:MEN AND WOMEN ARE NOT EQUALLY LIKELY TO DEPRESS.**"
   ]
  },
  {
   "cell_type": "code",
   "execution_count": null,
   "metadata": {
    "colab": {
     "base_uri": "https://localhost:8080/"
    },
    "id": "AMnCPdV3t_uX",
    "outputId": "a6c114b3-6ce5-4ef5-89f5-88f4104151b8"
   },
   "outputs": [
    {
     "data": {
      "text/plain": [
       "(14.58257461704968, 1.8129020725130917e-48)"
      ]
     },
     "execution_count": 199,
     "metadata": {},
     "output_type": "execute_result"
    }
   ],
   "source": [
    "sm.stats.proportions_ztest(df1['Gender'].value_counts()['Female'],len(df1['Gender']) ,value=p1,alternative='larger')"
   ]
  },
  {
   "cell_type": "code",
   "execution_count": null,
   "metadata": {
    "colab": {
     "base_uri": "https://localhost:8080/",
     "height": 297
    },
    "id": "2ShrQhFGuEol",
    "outputId": "5a1120be-c4d3-4a4c-91b4-efe6ba0cbbba"
   },
   "outputs": [
    {
     "data": {
      "text/plain": [
       "<AxesSubplot:xlabel='Gender', ylabel='count'>"
      ]
     },
     "execution_count": 200,
     "metadata": {},
     "output_type": "execute_result"
    },
    {
     "data": {
      "image/png": "[encoded data removed]",
      "text/plain": [
       "<Figure size 432x288 with 1 Axes>"
      ]
     },
     "metadata": {
      "needs_background": "light"
     },
     "output_type": "display_data"
    }
   ],
   "source": [
    "sns.countplot(x='Gender',data=df1)"
   ]
  },
  {
   "cell_type": "code",
   "execution_count": null,
   "metadata": {
    "colab": {
     "base_uri": "https://localhost:8080/"
    },
    "id": "mFzEbw0JuHcO",
    "outputId": "b5ce17da-2cc4-4c43-8f92-76a219a5305f"
   },
   "outputs": [
    {
     "data": {
      "text/plain": [
       "Male      118879\n",
       "Female    118640\n",
       "Name: Gender, dtype: int64"
      ]
     },
     "execution_count": 201,
     "metadata": {},
     "output_type": "execute_result"
    }
   ],
   "source": [
    "df1['Gender'].value_counts()"
   ]
  },
  {
   "cell_type": "markdown",
   "metadata": {
    "id": "Aawx2-AyuPmP"
   },
   "source": [
    "# Analyzing Literacy Rates\n",
    "\n",
    "Two Sample test"
   ]
  },
  {
   "cell_type": "code",
   "execution_count": null,
   "metadata": {
    "colab": {
     "base_uri": "https://localhost:8080/",
     "height": 322
    },
    "id": "INYVWDY-uQip",
    "outputId": "13896d72-769d-4e12-ff48-dee86b606a0d"
   },
   "outputs": [
    {
     "data": {
      "text/html": [
       "<div>\n",
       "<style scoped>\n",
       "    .dataframe tbody tr th:only-of-type {\n",
       "        vertical-align: middle;\n",
       "    }\n",
       "\n",
       "    .dataframe tbody tr th {\n",
       "        vertical-align: top;\n",
       "    }\n",
       "\n",
       "    .dataframe thead th {\n",
       "        text-align: right;\n",
       "    }\n",
       "</style>\n",
       "<table border=\"1\" class=\"dataframe\">\n",
       "  <thead>\n",
       "    <tr style=\"text-align: right;\">\n",
       "      <th></th>\n",
       "      <th>name_of_city</th>\n",
       "      <th>state_code</th>\n",
       "      <th>state_name</th>\n",
       "      <th>dist_code</th>\n",
       "      <th>population_total</th>\n",
       "      <th>population_male</th>\n",
       "      <th>population_female</th>\n",
       "      <th>0-6_population_total</th>\n",
       "      <th>0-6_population_male</th>\n",
       "      <th>0-6_population_female</th>\n",
       "      <th>literates_total</th>\n",
       "      <th>literates_male</th>\n",
       "      <th>literates_female</th>\n",
       "      <th>sex_ratio</th>\n",
       "      <th>child_sex_ratio</th>\n",
       "      <th>effective_literacy_rate_total</th>\n",
       "      <th>effective_literacy_rate_male</th>\n",
       "      <th>effective_literacy_rate_female</th>\n",
       "      <th>location</th>\n",
       "      <th>total_graduates</th>\n",
       "      <th>male_graduates</th>\n",
       "      <th>female_graduates</th>\n",
       "    </tr>\n",
       "  </thead>\n",
       "  <tbody>\n",
       "    <tr>\n",
       "      <th>0</th>\n",
       "      <td>Abohar</td>\n",
       "      <td>3</td>\n",
       "      <td>PUNJAB</td>\n",
       "      <td>9</td>\n",
       "      <td>145238</td>\n",
       "      <td>76840</td>\n",
       "      <td>68398</td>\n",
       "      <td>15870</td>\n",
       "      <td>8587</td>\n",
       "      <td>7283</td>\n",
       "      <td>103319</td>\n",
       "      <td>58347</td>\n",
       "      <td>44972</td>\n",
       "      <td>890</td>\n",
       "      <td>848</td>\n",
       "      <td>79.86</td>\n",
       "      <td>85.49</td>\n",
       "      <td>73.59</td>\n",
       "      <td>30.1452928,74.1993043</td>\n",
       "      <td>16287</td>\n",
       "      <td>8612</td>\n",
       "      <td>7675</td>\n",
       "    </tr>\n",
       "    <tr>\n",
       "      <th>1</th>\n",
       "      <td>Achalpur</td>\n",
       "      <td>27</td>\n",
       "      <td>MAHARASHTRA</td>\n",
       "      <td>7</td>\n",
       "      <td>112293</td>\n",
       "      <td>58256</td>\n",
       "      <td>54037</td>\n",
       "      <td>11810</td>\n",
       "      <td>6186</td>\n",
       "      <td>5624</td>\n",
       "      <td>92433</td>\n",
       "      <td>49347</td>\n",
       "      <td>43086</td>\n",
       "      <td>928</td>\n",
       "      <td>909</td>\n",
       "      <td>91.99</td>\n",
       "      <td>94.77</td>\n",
       "      <td>89.00</td>\n",
       "      <td>21.257584,77.5086754</td>\n",
       "      <td>8863</td>\n",
       "      <td>5269</td>\n",
       "      <td>3594</td>\n",
       "    </tr>\n",
       "    <tr>\n",
       "      <th>2</th>\n",
       "      <td>Adilabad</td>\n",
       "      <td>28</td>\n",
       "      <td>ANDHRA PRADESH</td>\n",
       "      <td>1</td>\n",
       "      <td>117388</td>\n",
       "      <td>59232</td>\n",
       "      <td>58156</td>\n",
       "      <td>13103</td>\n",
       "      <td>6731</td>\n",
       "      <td>6372</td>\n",
       "      <td>83955</td>\n",
       "      <td>46295</td>\n",
       "      <td>37660</td>\n",
       "      <td>982</td>\n",
       "      <td>947</td>\n",
       "      <td>80.51</td>\n",
       "      <td>88.18</td>\n",
       "      <td>72.73</td>\n",
       "      <td>19.0809075,79.560344</td>\n",
       "      <td>10565</td>\n",
       "      <td>6797</td>\n",
       "      <td>3768</td>\n",
       "    </tr>\n",
       "    <tr>\n",
       "      <th>3</th>\n",
       "      <td>Adityapur</td>\n",
       "      <td>20</td>\n",
       "      <td>JHARKHAND</td>\n",
       "      <td>24</td>\n",
       "      <td>173988</td>\n",
       "      <td>91495</td>\n",
       "      <td>82493</td>\n",
       "      <td>23042</td>\n",
       "      <td>12063</td>\n",
       "      <td>10979</td>\n",
       "      <td>125985</td>\n",
       "      <td>71470</td>\n",
       "      <td>54515</td>\n",
       "      <td>902</td>\n",
       "      <td>910</td>\n",
       "      <td>83.46</td>\n",
       "      <td>89.98</td>\n",
       "      <td>76.23</td>\n",
       "      <td>22.7834741,86.1576889</td>\n",
       "      <td>19225</td>\n",
       "      <td>12189</td>\n",
       "      <td>7036</td>\n",
       "    </tr>\n",
       "    <tr>\n",
       "      <th>4</th>\n",
       "      <td>Adoni</td>\n",
       "      <td>28</td>\n",
       "      <td>ANDHRA PRADESH</td>\n",
       "      <td>21</td>\n",
       "      <td>166537</td>\n",
       "      <td>82743</td>\n",
       "      <td>83794</td>\n",
       "      <td>18406</td>\n",
       "      <td>9355</td>\n",
       "      <td>9051</td>\n",
       "      <td>101292</td>\n",
       "      <td>56203</td>\n",
       "      <td>45089</td>\n",
       "      <td>1013</td>\n",
       "      <td>968</td>\n",
       "      <td>68.38</td>\n",
       "      <td>76.58</td>\n",
       "      <td>60.33</td>\n",
       "      <td>15.6322227,77.2728368</td>\n",
       "      <td>11902</td>\n",
       "      <td>7871</td>\n",
       "      <td>4031</td>\n",
       "    </tr>\n",
       "  </tbody>\n",
       "</table>\n",
       "</div>"
      ],
      "text/plain": [
       "  name_of_city  state_code      state_name  dist_code  population_total  \\\n",
       "0      Abohar            3          PUNJAB          9            145238   \n",
       "1    Achalpur           27     MAHARASHTRA          7            112293   \n",
       "2    Adilabad           28  ANDHRA PRADESH          1            117388   \n",
       "3   Adityapur           20       JHARKHAND         24            173988   \n",
       "4       Adoni           28  ANDHRA PRADESH         21            166537   \n",
       "\n",
       "   population_male  population_female  0-6_population_total  \\\n",
       "0            76840              68398                 15870   \n",
       "1            58256              54037                 11810   \n",
       "2            59232              58156                 13103   \n",
       "3            91495              82493                 23042   \n",
       "4            82743              83794                 18406   \n",
       "\n",
       "   0-6_population_male  0-6_population_female  literates_total  \\\n",
       "0                 8587                   7283           103319   \n",
       "1                 6186                   5624            92433   \n",
       "2                 6731                   6372            83955   \n",
       "3                12063                  10979           125985   \n",
       "4                 9355                   9051           101292   \n",
       "\n",
       "   literates_male  literates_female  sex_ratio  child_sex_ratio  \\\n",
       "0           58347             44972        890              848   \n",
       "1           49347             43086        928              909   \n",
       "2           46295             37660        982              947   \n",
       "3           71470             54515        902              910   \n",
       "4           56203             45089       1013              968   \n",
       "\n",
       "   effective_literacy_rate_total  effective_literacy_rate_male  \\\n",
       "0                          79.86                         85.49   \n",
       "1                          91.99                         94.77   \n",
       "2                          80.51                         88.18   \n",
       "3                          83.46                         89.98   \n",
       "4                          68.38                         76.58   \n",
       "\n",
       "   effective_literacy_rate_female               location  total_graduates  \\\n",
       "0                           73.59  30.1452928,74.1993043            16287   \n",
       "1                           89.00   21.257584,77.5086754             8863   \n",
       "2                           72.73   19.0809075,79.560344            10565   \n",
       "3                           76.23  22.7834741,86.1576889            19225   \n",
       "4                           60.33  15.6322227,77.2728368            11902   \n",
       "\n",
       "   male_graduates  female_graduates  \n",
       "0            8612              7675  \n",
       "1            5269              3594  \n",
       "2            6797              3768  \n",
       "3           12189              7036  \n",
       "4            7871              4031  "
      ]
     },
     "execution_count": 202,
     "metadata": {},
     "output_type": "execute_result"
    }
   ],
   "source": [
    "df3 = pd.read_csv('D:\\\\CDAC\\\\Github\\\\Data_Analytics\\\\Anova_Hypothesis_Two_Sample_Testing\\\\cities.csv')\n",
    "df3.head()"
   ]
  },
  {
   "cell_type": "code",
   "execution_count": null,
   "metadata": {
    "colab": {
     "base_uri": "https://localhost:8080/"
    },
    "id": "Wb-c2rWZuX8L",
    "outputId": "d0b97d3c-33f3-4b8a-e965-f58a2b08c0b1"
   },
   "outputs": [
    {
     "data": {
      "text/plain": [
       "UTTAR PRADESH                63\n",
       "WEST BENGAL                  61\n",
       "MAHARASHTRA                  43\n",
       "ANDHRA PRADESH               42\n",
       "MADHYA PRADESH               32\n",
       "TAMIL NADU                   32\n",
       "GUJARAT                      29\n",
       "RAJASTHAN                    29\n",
       "BIHAR                        26\n",
       "KARNATAKA                    26\n",
       "HARYANA                      20\n",
       "PUNJAB                       16\n",
       "NCT OF DELHI                 15\n",
       "ORISSA                       10\n",
       "JHARKHAND                    10\n",
       "CHHATTISGARH                  9\n",
       "KERALA                        7\n",
       "UTTARAKHAND                   6\n",
       "ASSAM                         4\n",
       "JAMMU & KASHMIR               3\n",
       "PUDUCHERRY                    2\n",
       "MANIPUR                       1\n",
       "MEGHALAYA                     1\n",
       "ANDAMAN & NICOBAR ISLANDS     1\n",
       "CHANDIGARH                    1\n",
       "NAGALAND                      1\n",
       "TRIPURA                       1\n",
       "MIZORAM                       1\n",
       "HIMACHAL PRADESH              1\n",
       "Name: state_name, dtype: int64"
      ]
     },
     "execution_count": 203,
     "metadata": {},
     "output_type": "execute_result"
    }
   ],
   "source": [
    "df3['state_name'].value_counts()"
   ]
  },
  {
   "cell_type": "code",
   "execution_count": null,
   "metadata": {
    "id": "WI-46vjtufQ1"
   },
   "outputs": [],
   "source": [
    "punjab = df3[df3['state_name'] == 'PUNJAB']['effective_literacy_rate_total']\n",
    "delhi = df3[df3['state_name'] == 'NCT OF DELHI']['effective_literacy_rate_total']"
   ]
  },
  {
   "cell_type": "code",
   "execution_count": null,
   "metadata": {
    "colab": {
     "base_uri": "https://localhost:8080/"
    },
    "id": "JLwmJiH7uilk",
    "outputId": "fb1822dd-49d3-4bf9-c1b3-e7ec8f3d1057"
   },
   "outputs": [
    {
     "data": {
      "text/plain": [
       "(83.44062499999998, 5.381935796408821)"
      ]
     },
     "execution_count": 205,
     "metadata": {},
     "output_type": "execute_result"
    }
   ],
   "source": [
    "punjab_mean = punjab.mean()\n",
    "punjab_std = punjab.std()\n",
    "\n",
    "punjab_mean, punjab_std"
   ]
  },
  {
   "cell_type": "code",
   "execution_count": null,
   "metadata": {
    "colab": {
     "base_uri": "https://localhost:8080/"
    },
    "id": "IEF9u_QiumAY",
    "outputId": "95373713-8df7-4ccd-b12c-d3b8a3dffde4"
   },
   "outputs": [
    {
     "data": {
      "text/plain": [
       "(83.658, 4.6569551671206195)"
      ]
     },
     "execution_count": 206,
     "metadata": {},
     "output_type": "execute_result"
    }
   ],
   "source": [
    "delhi_mean = delhi.mean()\n",
    "delhi_std = delhi.std()\n",
    "\n",
    "delhi_mean, delhi_std"
   ]
  },
  {
   "cell_type": "markdown",
   "metadata": {
    "id": "ilchoBJXuvk1"
   },
   "source": [
    "**From the above calculations, it can be seen that the mean and the standard deviations of Punjab and Delhi literacy rates differ slightly. The next step is to determine if this difference is a statistically significant one.**"
   ]
  },
  {
   "cell_type": "markdown",
   "metadata": {
    "id": "1CoqJjXouxyy"
   },
   "source": [
    "For hypothesis testing, the following are defined:\n",
    "\n",
    "* **Null Hypothesis:** The true mean literacy rate for Punjab and Delhi are the same.\n",
    "* **Alternate Hypothesis:** The true mean literacy rate for Punjab and Delhi are not the same.\n",
    "\n",
    "The threshold value of $\\alpha$ is assumed to be 0.05.\n",
    "Assuming Null Hypothesis is true."
   ]
  },
  {
   "cell_type": "code",
   "execution_count": null,
   "metadata": {
    "colab": {
     "base_uri": "https://localhost:8080/"
    },
    "id": "dVgF-PKourLM",
    "outputId": "74116726-7b67-4a34-bab5-8601e961fe5f"
   },
   "outputs": [
    {
     "data": {
      "text/plain": [
       "(0.2173750000000183, 1.8044784525904138)"
      ]
     },
     "execution_count": 207,
     "metadata": {},
     "output_type": "execute_result"
    }
   ],
   "source": [
    "h0_mean = 0\n",
    "mean_diff = delhi_mean - punjab_mean\n",
    "sigma_diff = np.sqrt((delhi_std**2)/len(delhi)  + (punjab_std**2)/len(punjab))\n",
    "mean_diff, sigma_diff"
   ]
  },
  {
   "cell_type": "markdown",
   "metadata": {
    "id": "ywW4zZXUvAvh"
   },
   "source": [
    "Since we are dealing with sample sizes less than 30, using the t-statistic will be more appropriate. To use student's t though, we need to calculate the degree of freedom. This is done as follows:"
   ]
  },
  {
   "cell_type": "code",
   "execution_count": null,
   "metadata": {
    "colab": {
     "base_uri": "https://localhost:8080/"
    },
    "id": "cqH8dH08u9He",
    "outputId": "4a76116f-04cc-47d3-8c0b-194aad2ed308"
   },
   "outputs": [
    {
     "data": {
      "text/plain": [
       "28.82681788840003"
      ]
     },
     "execution_count": 208,
     "metadata": {},
     "output_type": "execute_result"
    }
   ],
   "source": [
    "deg = (((delhi_std**2)/len(delhi)  + (punjab_std**2)/len(punjab)) ** 2) / ((((delhi_std**2)/len(delhi))**2)/(len(delhi)-1)  + (((punjab_std**2)/len(punjab))**2)/(len(punjab) - 1))\n",
    "deg"
   ]
  },
  {
   "cell_type": "code",
   "execution_count": null,
   "metadata": {
    "colab": {
     "base_uri": "https://localhost:8080/"
    },
    "id": "4hV8o1A0vJzF",
    "outputId": "8f67663a-87a6-4bb9-d50c-5a7d7cebb1e0"
   },
   "outputs": [
    {
     "data": {
      "text/plain": [
       "0.12046417051307332"
      ]
     },
     "execution_count": 209,
     "metadata": {},
     "output_type": "execute_result"
    }
   ],
   "source": [
    "t2 = (mean_diff - h0_mean) / sigma_diff\n",
    "t2"
   ]
  },
  {
   "cell_type": "code",
   "execution_count": null,
   "metadata": {
    "colab": {
     "base_uri": "https://localhost:8080/"
    },
    "id": "az-u81sQvZst",
    "outputId": "6306b985-4cf9-4598-8576-37370695592a"
   },
   "outputs": [
    {
     "data": {
      "text/plain": [
       "0.9049511804508772"
      ]
     },
     "execution_count": 210,
     "metadata": {},
     "output_type": "execute_result"
    }
   ],
   "source": [
    "p2 = (1-stats.t.cdf(t2, deg))*2\n",
    "p2"
   ]
  },
  {
   "cell_type": "markdown",
   "metadata": {
    "id": "d0_UAIlAvfgV"
   },
   "source": [
    "**The value of p obtained here is much higher than the significance level $\\alpha$. Therefore, we cannot reject the null hypothesis. It stands.**\n",
    "\n",
    "**The true mean literacy rate for Punjab and Delhi are the same.**"
   ]
  },
  {
   "cell_type": "code",
   "execution_count": null,
   "metadata": {
    "colab": {
     "base_uri": "https://localhost:8080/"
    },
    "id": "n6_0LODTvgpl",
    "outputId": "ad0c41ef-ff6f-4d24-bb74-9caac1927bb0"
   },
   "outputs": [
    {
     "data": {
      "text/plain": [
       "(0.1198880354206678, 0.9045718424630748)"
      ]
     },
     "execution_count": 211,
     "metadata": {},
     "output_type": "execute_result"
    }
   ],
   "source": [
    "sm.stats.ztest(delhi ,punjab)"
   ]
  },
  {
   "cell_type": "code",
   "execution_count": null,
   "metadata": {
    "colab": {
     "base_uri": "https://localhost:8080/",
     "height": 389
    },
    "id": "i6xzZd2xvk63",
    "outputId": "abe8f619-dbc8-4bc1-8545-0074e1d10588"
   },
   "outputs": [
    {
     "name": "stderr",
     "output_type": "stream",
     "text": [
      "C:\\Users\\ankur\\anaconda3\\lib\\site-packages\\seaborn\\distributions.py:2619: FutureWarning: `distplot` is a deprecated function and will be removed in a future version. Please adapt your code to use either `displot` (a figure-level function with similar flexibility) or `histplot` (an axes-level function for histograms).\n",
      "  warnings.warn(msg, FutureWarning)\n",
      "C:\\Users\\ankur\\anaconda3\\lib\\site-packages\\seaborn\\distributions.py:2619: FutureWarning: `distplot` is a deprecated function and will be removed in a future version. Please adapt your code to use either `displot` (a figure-level function with similar flexibility) or `histplot` (an axes-level function for histograms).\n",
      "  warnings.warn(msg, FutureWarning)\n"
     ]
    },
    {
     "data": {
      "text/plain": [
       "<AxesSubplot:xlabel='effective_literacy_rate_total', ylabel='Density'>"
      ]
     },
     "execution_count": 212,
     "metadata": {},
     "output_type": "execute_result"
    },
    {
     "data": {
      "image/png": "[encoded data removed]",
      "text/plain": [
       "<Figure size 432x288 with 1 Axes>"
      ]
     },
     "metadata": {
      "needs_background": "light"
     },
     "output_type": "display_data"
    }
   ],
   "source": [
    "sns.distplot(punjab)\n",
    "sns.distplot(delhi)\n"
   ]
  },
  {
   "cell_type": "code",
   "execution_count": null,
   "metadata": {
    "id": "7AOWxXtCzo2T"
   },
   "outputs": [],
   "source": []
  }
 ],
 "metadata": {
  "colab": {
   "collapsed_sections": [],
   "name": "assig.5.ipynb",
   "provenance": []
  },
  "kernelspec": {
   "display_name": "Python 3 (ipykernel)",
   "language": "python",
   "name": "python3"
  },
  "language_info": {
   "codemirror_mode": {
    "name": "ipython",
    "version": 3
   },
   "file_extension": ".py",
   "mimetype": "text/x-python",
   "name": "python",
   "nbconvert_exporter": "python",
   "pygments_lexer": "ipython3",
   "version": "3.9.12"
  }
 },
 "nbformat": 4,
 "nbformat_minor": 1
}
